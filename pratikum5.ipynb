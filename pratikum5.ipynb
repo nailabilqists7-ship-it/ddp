{
  "nbformat": 4,
  "nbformat_minor": 0,
  "metadata": {
    "colab": {
      "provenance": [],
      "authorship_tag": "ABX9TyNXSbtAMgTXS3YAypPujPLv",
      "include_colab_link": true
    },
    "kernelspec": {
      "name": "python3",
      "display_name": "Python 3"
    },
    "language_info": {
      "name": "python"
    }
  },
  "cells": [
    {
      "cell_type": "markdown",
      "metadata": {
        "id": "view-in-github",
        "colab_type": "text"
      },
      "source": [
        "<a href=\"https://colab.research.google.com/github/nailabilqists7-ship-it/ddp/blob/main/pratikum5.ipynb\" target=\"_parent\"><img src=\"https://colab.research.google.com/assets/colab-badge.svg\" alt=\"Open In Colab\"/></a>"
      ]
    },
    {
      "cell_type": "code",
      "execution_count": null,
      "metadata": {
        "id": "kqu_JBA2z0BI",
        "colab": {
          "base_uri": "https://localhost:8080/"
        },
        "outputId": "6718b303-4f1f-4532-d4f4-9097d0215a50"
      },
      "outputs": [
        {
          "output_type": "stream",
          "name": "stdout",
          "text": [
            "['Beat Ember', 'motor', 200, 'Hijau', 2]\n",
            "['Beat Ember', 'motor', 200, 'Hijau', 2, 5000, 'metic']\n",
            "['Beat Ember', 'motor', 'Honda', 200, 'Hijau', 2, 5000, 'metic']\n"
          ]
        }
      ],
      "source": [
        "namaKendaraan = \"Beat Ember\"\n",
        "jenisKendaraan = \"motor\"\n",
        "ccKendaraan = 200\n",
        "warnaKendaraan = \"Hijau\"\n",
        "rodaKendaraan = 2\n",
        "\n",
        "data_kendaraan = [\n",
        "    namaKendaraan, jenisKendaraan, ccKendaraan,\n",
        "    warnaKendaraan, rodaKendaraan]\n",
        "\n",
        "print(data_kendaraan)\n",
        "\n",
        "hargaKendaraan = 5000\n",
        "tipeKendaraan = \"metic\"\n",
        "\n",
        "data_kendaraan.append(hargaKendaraan)\n",
        "data_kendaraan.append(tipeKendaraan)\n",
        "print(data_kendaraan)\n",
        "\n",
        "merkKendaraan = \"Honda\"\n",
        "data_kendaraan.insert(2, merkKendaraan)\n",
        "print(data_kendaraan)"
      ]
    },
    {
      "cell_type": "code",
      "source": [
        "pilihan = input(\"\"\"\n",
        "Silahkan pilih menu yang diinginkan\n",
        "====================================\n",
        "1. Luas Persegi\n",
        "2. Luas Lingkaran\n",
        "3. Luas Segitiga\n",
        "====================================\n",
        "Kirimkan hanya angka saja,\n",
        "jawaban = \"\"\")\n",
        "\n",
        "match pilihan:\n",
        "  case \"1\":\n",
        "    sisi = int(input(\"sisi = \"))\n",
        "    luas = sisi * sisi\n",
        "\n",
        "    print(f\"luas persegi dengan sisi {sisi} adalah {luas}\")\n",
        "    # luas persegi\n",
        "  case \"2\":\n",
        "    jarijari = int(input(\"jarijari = \"))\n",
        "    luas = 3.14 * jarijari **2\n",
        "\n",
        "    print(f\"luas lingkaran dengan jarijari {jarijari} adalah luas {luas}\")\n",
        "    # luas lingkaran\n",
        "    # phi * jarijari**2\n",
        "  case \"3\":\n",
        "    alas = int(input(\"alas = \"))\n",
        "    tinggi = int(input(\"tinggi = \"))\n",
        "    luas = (alas * tinggi)/2\n",
        "\n",
        "    print(f\"luas segitiga dengan alas {alas} * tinggi {tinggi}/2 adalah {luas}\")\n",
        "    # luas segitiga\n",
        "    # (alas * tinggi)/2\n",
        "  case _:\n",
        "    print(\"ya nda tau ko tanya saya\")"
      ],
      "metadata": {
        "colab": {
          "base_uri": "https://localhost:8080/"
        },
        "id": "hhzlZuu59G6j",
        "outputId": "fecbf6d5-044c-42d5-cca5-38fc1ce9e041"
      },
      "execution_count": 40,
      "outputs": [
        {
          "output_type": "stream",
          "name": "stdout",
          "text": [
            "\n",
            "Silahkan pilih menu yang diinginkan\n",
            "====================================\n",
            "1. Luas Persegi\n",
            "2. Luas Lingkaran\n",
            "3. Luas Segitiga\n",
            "====================================\n",
            "Kirimkan hanya angka saja,\n",
            "jawaban = 3\n",
            "alas = 7\n",
            "tinggi = 7\n",
            "luas segitiga dengan alas 7 * tinggi 7/2 adalah 24.5\n"
          ]
        }
      ]
    }
  ]
}